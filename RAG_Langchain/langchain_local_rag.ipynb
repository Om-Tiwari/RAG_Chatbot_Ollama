{
 "cells": [
  {
   "cell_type": "markdown",
   "id": "3a0b9c43-1832-41e8-9f58-df782936760c",
   "metadata": {
    "jp-MarkdownHeadingCollapsed": true
   },
   "source": [
    "# Ingesting PDFs"
   ]
  },
  {
   "cell_type": "code",
   "execution_count": null,
   "id": "e9b70962-fd96-4ae0-bbef-0a7a953a1d29",
   "metadata": {
    "scrolled": true
   },
   "outputs": [],
   "source": [
    "!pip install unstructured langchain\n",
    "!pip install \"unstructured[all-docs]\""
   ]
  },
  {
   "cell_type": "code",
   "execution_count": 2,
   "id": "b83738cc-0b99-4e5f-a23f-376dd9b868d2",
   "metadata": {},
   "outputs": [],
   "source": [
    "from langchain_community.document_loaders import UnstructuredPDFLoader"
   ]
  },
  {
   "cell_type": "code",
   "execution_count": 3,
   "id": "fa6bac22-128f-4b47-b7e6-b47b0d455262",
   "metadata": {},
   "outputs": [],
   "source": [
    "# local pdf file upload\n",
    "path = \"empsit.pdf\"\n",
    "\n",
    "if path:\n",
    "    loader = UnstructuredPDFLoader(file_path=path)\n",
    "    data = loader.load()\n",
    "else:\n",
    "    print(\"Upload a PDF file\")"
   ]
  },
  {
   "cell_type": "code",
   "execution_count": 4,
   "id": "758b55eb-7410-4af1-8106-7b7f783452a8",
   "metadata": {
    "scrolled": true
   },
   "outputs": [
    {
     "data": {
      "text/plain": [
       "\"International Journal of Scientific Reports Ogunlayi AC et al. Int J Sci Rep. 2024 Jun;10(6):188-194 http://www.sci-rep.com\\n\\npISSN 2454-2156 | eISSN 2454-2164\\n\\nOriginal Research Article\\n\\nDOI: https://dx.doi.org/10.18203/issn.2454-2156.IntJSciRep20241315\\n\\nAssessing the diagnostic impact of P63, PSA and BCL-2 proteins in premalignant and malignant prostate tissues\\n\\nAderonke C. Ogunlayi1, Victor O. Ekundina1, Adedapo O. Kehinde2*,\\n\\nLinus A. Enye3, Adegoke O. Aremu1\\n\\n1Department of Medical Laboratory Science, College of Medicine and Health Sciences, Afe Babalola University, Ado- Ekiti, Ekiti State, Nigeria 2Department of Medical Laboratory Science, College of Basic Medical Sciences, Achievers University, Idasen-owo, Ondo State, Nigeria 3Department of Anatomy Science, College of Medicine and Health Sciences, Afe Babalola University, Ado-Ekiti, Ekiti State, Nigeria\\n\\nReceived: 05 March 2024 Revised: 12 April 2024 Accepted: 16 April 2024\\n\\nCorrespondence: Dr. Adedapo O. Kehinde, E-mail: kehindeadedapo@achievers.edu.ng\\n\\nCopyright: © the author(s), publisher and licensee Medip Academy. This is an open-access article distributed under the terms of the Creative Commons Attribution Non-Commercial License, which permits unrestricted non-commercial use, distribution, and reproduction in any medium, provided the original work is properly cited.\\n\\nABSTRACT\\n\\nBackground: Prostate cancer (CaP) is increasingly becoming a major health issue affecting men as cancer-related fatalities are attributable to the condition. Immunohistochemistry (IHC) diagnostic criteria can help in gene-targeted therapy and help reduce its prevalence. This study is to assess the diagnostic impact of prostate-specific antigen (PSA), P63 and BCL-2 antibodies in CaP. Method: A case-controlled retrospective study was carried out on eighty (80) prostrate tissue blocks retrieved from the pathology archive of Ekiti State university teaching hospital Ado Ekiti. IHC analysis of the selected antibodies was carried out and also stained with haematoxylin and eosin (H and E) for second opinion and confirmation. Results: The study showed that all the CaP samples had 100% positivity with varying reactivity to the IHC biomarkers; PSA had 100% positivity and MPR of 94% due to its multiple weaknesses as a biomarker p63 is a basal cells marker. Conclusions: The expressions of these antibodies were observed in the progression of CaP. Although these markers are useful in predicting the progression from benign prostatic hyperplasia (BPH) to CaP, none of them can be utilised in isolation to a conclusion. Hence, they should be used in conjunction with one another to make up for their limitations. The immunohistochemical markers are beneficial in CaP diagnosis.\\n\\nKeywords: Prostrate cancer, BPH, Immunohistochemistry, PSA, P63, BCL-2, MPR\\n\\nINTRODUCTION\\n\\nProstate cancer (CaP) is increasingly acknowledged as one of the major health issues affecting the male community as a whole, and 6% of all cancer-related fatalities among males are attributable to the condition.1 The incidence and death of CaP increase with age, hereditary features like as race, diets high in animal fat\\n\\nand exposure to heavy metals all provide credence to the hypothesis that external variables may play a substantial role in the development of CaP.2\\n\\nMen over the age of 65 account for more than 65% of instances of CaP, which typically affects older men.3 Native Japanese and Chinese people have a decreased risk of CaP incidence as well as death; nevertheless, the\\n\\nInternational Journal of Scientific Reports | June 2024 | Vol 10 | Issue 6 Page 188\\n\\nOgunlayi AC et al. Int J Sci Rep. 2024 Jun;10(6):188-194\\n\\nincidence of CaP in black males is around 60% greater than that in white men. African-American males are often diagnosed with the illness at a younger age and in more severe stages.3 Early thus heavily emphasised to lower fatality rates. Individuals may have variable chances of getting CaP due to genetic, social, and environmental factors, including nutrition and lifestyle.1 However, for the majority of patients with the condition, early discovery and efficient treatment may result in excellent results.\\n\\nidentification\\n\\nis\\n\\nblocks of both benign and malignant prostate tissues obtained from the archives of the anatomic pathology department of Ekiti State teaching hospital (EKSUTH) in Ado Ekiti, Ekiti state, Nigeria. H and E stained slides were prepared from these samples and reviewed microscopically to confirm the diagnosis and help classify them into benign and malignant samples.\\n\\nSelection criteria\\n\\nBPH is the gradual expansion of glandular and stromal tissues surrounding the urethra (Negoita et al).4 Because of these adjustments, BPH is now primarily understood to be a condition associated with the proliferation of stromal cells. It is characterized by an increase in the stromal component of the prostate that is about fourfold, as well as a nearly doubling of the glandular components of the prostate (Negoita et al). Histological evidence of BPH is present in more than two-thirds of males over the age of 50, and the percentage rises to 80% by age 70.4\\n\\nTissue block samples was selected based on recorded confirmed cases of H and E stained benign and malignant prostate tissues from the archives of the anatomic pathology department from January 2020 to December 2022.\\n\\nDuration of study\\n\\nResearch study was carried out between January 2023 to August 2023.\\n\\nBy detecting malignancies at an early and curable stage, screening increases the likelihood that therapy will be effective and enhances the quality of life for patients in the long run, and thus gives a better chance for effective gene-targeted therapy.5\\n\\nBiomarkers with high sensitivity and specificity are ideal and among the most well-studied biomarkers are, BCL-2, P63, and PSA, which are often used as CaP prognostic indicators, because they are dysregulated as the disease progress.6,7\\n\\nThe PSA, is the most important protein for the treatment of men who have CaP, because of the significant association that exists between the number of prostate epithelial cells in the body and the PSA level.8 The p63 protein serves as basal cell nuclear marker typically found in prostatic epithelium.9 This marker is especially helpful in determining the nature of prostate lesions that are unclear or in differentiating tangential portions of the prostate from prostatic intraepithelial neoplasia (PIN) or prostatic cancer. BCL-2 produces a protein that inhibits, the BCL-2 oncoprotein is known to encourage tumour and overexpression of BCL-2 is associated with hormone-resistant disease and a higher tumour stage.10\\n\\nThe objective of this study is to discover and demonstrate the expression of the immunohistochemical markers, PSA, p63, and BCL-2, as well as to investigate the possibility that these markers might be used to predict the progression of BPH into cancerous tumours.\\n\\nMETHODS\\n\\nSample collection and tissue block\\n\\nThe tissue blocks were deparaffinized in xylene, then sections were rehydrated on glass slides using a variety of alcohol gradients. The slides were then coated with adhesive. The pieces were processed in a pressure cooker to extract antigens. After that, the endogenous peroxidase activity was stopped from occurring by immersing the sections in a solution of hydrogen peroxide that was 3 per cent concentration for five minutes. Incubation with horse non-immune serum for 20 minutes prevented non- specific binding. After being applied on slides and diluted to a concentration of 200 l, BioGenex mouse monoclonal primary antibodies for PSA were then left to incubate at room temperature for 80 minutes. After 30 minutes of incubation at room temperature, biotinylated rabbit anti- mouse secondary immunoglobins were applied to the slides. They were then subjected to an avidin-biotin peroxidase complex incubation. As a chromogen, 3, 3 diaminobenzidine was used. Hematoxylin was used as a counterstain on the section.\\n\\nImmunostaining assessment\\n\\nBy combining intensity and distribution on a 0–3 (0, +, ++, +++) scale, it was possible to assess the expression of the antibodies, 1 (+) represents mild or weak but the detectable discontinuous expression, localized staining on fewer than 10 per cent of cells, 2 (++) represents moderate and positive staining discontinuous expression, localized staining present on fewer than 40 per cent of cells, and 3 (+++) represents strong and intense continuous expression. The value 0 was defined as no expression, no detectable expression, or localised staining on fewer than 10 per cent of cells, as described by Fedchenko and Reifenrath.11 It was possible to evaluate how immunoreactive these markers were by analysing the degree of staining that occurred in each place as well as the proportion of cells that were stained in that site. There were three levels of staining: mild, moderate, and\\n\\nA case-control retrospective study was conducted on tissue eighty (80) formalin-fixed paraffin-embedded\\n\\nInternational Journal of Scientific Reports | June 2024 | Vol 10 | Issue 6 Page 189\\n\\nOgunlayi AC et al. Int J Sci Rep. 2024 Jun;10(6):188-194\\n\\nsevere (marked). The following are grades for the positive cell percentage:\\n\\nNo staining/negative reaction 0 (0≤X≤10), mild reaction (positive) + (10≤X ≤40), moderate reaction (positive) ++ (40≤X ≤80) and marked reaction (positive) +++ (>80)\\n\\nexhibiting moderate and 32 cases exhibiting strong expression. It shows the semi-quantitative degree of expression of p63 in BPH and CaP BPH has a 10% positive rate, with just 1 instance exhibiting faint or light staining. With just 2 instances exhibiting mild expression, 64 cases exhibiting moderate expression, and 34 cases exhibiting strong expression, CaP had a positive rate of 98%.\\n\\nData analysis\\n\\nAnalysis of the data obtained from the study was carried out using photomicrographs. Charts, and graphs were collated using Prismpad (V23) and tables were compiled using Microsoft excel (2016).\\n\\nRESULTS\\n\\nsIt shows the semi-quantitative expression of BCL-2 in BPH and CaP. BPH had a positive rate of 0%, which means that not a single patient showed any sign of staining after being tested. CaP exhibited a positive rate of 92%, with only 4 instances exhibiting mild, 6 cases exhibiting moderate and 30 cases exhibiting strong expression.\\n\\nA case-control retrospective study of the total number of 80 blocks of BPH and CaP was recruited with a pie chart showing the case distribution of 50% each for BPH and CaP as shown Figure 1 shows a pie chart showing the distribution of cases of 50% among the BPH and 50% CaP.\\n\\nFigure 2 shows the mean percentage of the degree of reactivity of PSA showed 10% (BPH), 94% (CaP), P63 showed 10%(BPH), 98% (CaP), and BCL-2 showed 0% (BPH), 92% (CaP) and represented in a bar chart.\\n\\nCase distribution\\n\\nFigure 3 haematoxylin and eosin staining and techniques.\\n\\nshows\\n\\nthe histo-photomicrographs of immnstaining\\n\\n50\\n\\n50\\n\\nWhere plate 1 shows the BPH at x100 and x400 in H and E-stained sections, along with CaP at ×100 and x400 in (A), (B), (C) and (D), respectively. (A) and (B) demonstrate moderate to strong histochemical staining of CaP and normal prostatic epithelium in BPH, respectively (C and D).\\n\\nFigure 1: Distribution of cases among the BPH and CaP.\\n\\nPlate 2 shows PSA is photomicrographs section showing the benign prostrate hyperplasia with cytoplasmic mild reaction of PSA at ×100 PSA immunohistochemical staining in BPH, while 2B is a photomicrographs section of the CaP section showing immunohistochemical reaction at ×100. and strong moderate to strong immunohistochemical staining in CaP sample.\\n\\nimmunostain where 2A\\n\\nand\\n\\nthere was\\n\\nan\\n\\ninsignificant\\n\\nTable 1 shows the expression of PSA, p63, and BCL-2 proteins in the BPH and CaP lesions.\\n\\nPSA; negative 36 (90%), positive 4 (10%), P63; negative39 (100%), positive 1 (10%), BCL-2; negative 40 (100%), positive 0 (0%) in BPH lesions.\\n\\nPSA; negative 0 (0%), positive 40 (100%), P63; negative 0 (0%), positive 40 (100%), BCL-2; negative 0 (0%), positive 40 (100%) in CaP lesions.\\n\\nTable 2 shows the semi-quantitative expression of PSA in BPH and CaP. BPH has a positive rate of ten per cent, with four occurrences showing minimal or insignificant staining. CaP exhibited a positive rate of 94%, with only 2 instances exhibiting mild, 6 cases\\n\\njust\\n\\nPlate 2 also shows the P63 immunostain, where 2C is a photo-micrographs section showing the benign prostrate hyperplasia with cytoplasmic mild reaction of p63 at ×400, and 2D is a photomicrographs section of the CaP showing strong immunohistochemical reaction of p63 (×400).\\n\\nPlate 2 also shows BCL-2 immunostain, where 2E is a photo-micrographs section showing the benign prostrate hyperplasia with cytoplasmic mild reaction of BCL-2 at ×40 and there was an insignificant immunohistochemical staining in BPH, while 2F is a photomicrographs section of the CaP showing strong immunohistochemical reaction of BCL-2 (×400).\\n\\nInternational Journal of Scientific Reports | June 2024 | Vol 10 | Issue 6 Page 190\\n\\nOgunlayi AC et al. Int J Sci Rep. 2024 Jun;10(6):188-194\\n\\nTable 1: Expression of PSA, p63, and BCL-2 proteins in the identified cases.\\n\\nBiomarker Group BPH CaP\\n\\nPSA (%) Negative 36 (90) 0 (0)\\n\\nPositive 4 (10) 40 (100)\\n\\np63 (%) Negative 39 (100) 0 (0)\\n\\nPositive 1 (10) 40 (100)\\n\\nBCL-2 (%) Negative 40 (100) 0 (0)\\n\\nPositive 0 (0) 40 (100)\\n\\nSemi-quantitative expression of PSA in BPH and CaP. BPH has a positive rate of 10% with just four occurrences showing minimal or insignificant staining. CaP exhibited a positive rate of 94%, with only 2 instances exhibiting mild, 6 cases exhibiting moderate and 32 cases exhibiting strong expression.\\n\\nTable 2: Degree of staining of for PSA, P63 and BCL-2 protein expression.\\n\\nBiomarker\\n\\nPSA protein\\n\\nP63\\n\\nBCL-2\\n\\nGroup Benign CaP Benign CaP Benign CaP\\n\\nMild (+) 4 2 1 2 0 4\\n\\nModerate (++) 0 6 0 4 0 6\\n\\nSevere (+++) Mean % reactivity 10 0 94 32 10 0 98 34 0 0 92 30\\n\\n150%\\n\\nGraph showing mean percentage reactivity\\n\\nBPH CaP\\n\\n100%\\n\\n94%\\n\\n98%\\n\\n92%\\n\\n50%\\n\\n10%\\n\\n10%\\n\\n0%\\n\\n0%\\n\\nPSA\\n\\nP63\\n\\nBCL-2\\n\\nFigure 2: Total mean percentage reactivity of IHC markers in identified cases.\\n\\nFigure 4 (A-F): Photomicrograph of PSA, P63 and BCL-2 immuno-stained samples-Benign prostrate hyperplasia with cytoplasmic mild reaction of PSA (×100), CaP showing strong ICH reaction ×100. Insignificant PSA IHC staining in BPH and moderate to strong ICH staining in CaP, the benign prostrate hyperplasia with cytoplasmic mild reaction of p63 (×400), the CaP showing strong ICH reaction of p63 (×400), the benign prostrate hyperplasia with cytoplasmic mild reaction of BCL-2 (×400). Insignificant ICH staining in BPH and CaP showing strong ICH reaction of BCL-2 (×400).\\n\\nFigure 3 (A-D): BPH at ×100 and ×400 in H and E- stained sections, along with CaP at ×100 and ×400, respectively. Moderate to strong histochemical staining of malignant prostrate tissue and normal prostatic epithelium in benign prostate tissue, respectively.\\n\\nDISCUSSION\\n\\nDifferent disease processes may interfere with the prostate gland's usual design.12 CaP and its associated metastases, as well as BPH, are among these disorders.13 There is a possibility that prostate-associated antigens\\n\\nInternational Journal of Scientific Reports | June 2024 | Vol 10 | Issue 6 Page 191\\n\\nOgunlayi AC et al. Int J Sci Rep. 2024 Jun;10(6):188-194\\n\\nwill be produced as a consequence of abnormalities in the development of prostate epithelial cells.14 Prostate- specific antigen (PSA)-a secreted protease, prostate- specific membrane antigen (PSMA)-a highly specific membrane antigen found on their plasma membrane, p63- a rare positive prostatic adenocarcinoma, and BCL-2 family proteins-essential regulators of pathways involved in cell death are all examples of these antigens.12\\n\\nFrom this study using IHC analysis, the expressions of PSA, P63 and BCL-2 were expressed in 80 retrieved blocks of prostatic tissues with 40 BPH and 40 CaP. Our findings reveal that there were varying expression patterns as observed in the different markers. Hormonal abnormalities that affect the expression of PSA, p63, and BCL-2 might be the cause of these varied expression patterns in our research sample.13\\n\\nstrong PSA immunohistochemical stain in CaP as seen in plate 2B. The positivity rate of PSA is 10% in BPH with mild reaction against 100% in CaP with strong reactivity/ significant immunohistochemical expression as evident in the poorly differential malignant tissues. PSA is strongly expressed in hyperplastic tissues, which is considered to stem from the diverse biological properties of the prostate gland's peripheral and transition zones.15 The findings of the inquiry are in direct opposition to this conclusion.16 The mean percentage reactivity was 10% in BPH and 94% in CaP. According to the research by Bonk et al PSA expression and staining in CaP tissue sections decreased compared to BPH tissue sections, whereas neoplasia and other diseases have been linked to higher serological PSA levels.17,18 With evidence that PSA transforms Lys-plasminogen into biologically active angiostatin-like fragments, displaying antiangiogenic characteristics, the connection between increased tumour aggressiveness and less PSA plays a tumour preventive function.19\\n\\nshows a decline\\n\\nin BPH but a\\n\\nFrom our study, p63 also shows a decline in BPH but a strong it progresses and the cancer condition becomes established and differential. The positivity rate of P63 is 100% in CaP with a strong reactivity with a poorly differentiated malignancy, this corresponds to previous works where p63 and pure adenocarcinoma.20 All the reaction CaP cases were positive for P63 but in BPH only one case was positive. As opposed to a study where prostate tumours that express p63 display mainly luminal cytokeratin expression, with only limited and focal positivity for CK5/6.21 Previous studies suggest that p63 expression in certain adenocarcinoma cases could be attributed to the presence of trapped benign glands among malignant cells.20,22\\n\\nimmunohistochemical Stain\\n\\nin CaP as\\n\\nis\\n\\n100%\\n\\nin\\n\\nbenign\\n\\nlesions\\n\\nThere is an increase of the expression of p63 in Cap compared to BPH which is in line with the previous works of Wu and Kunju.23 A prostatic cancer instance\\n\\nthe with widespread abnormal P63 expression secreting cells was observed. This is evidence as shown in plate 2D with marked cytoplasmic staining of the basal cells. Rarely, p63-positive prostate adenocarcinomas are discovered when basal markers and methyl-acyl- coenzyme A racemase are used to build up an unusual focus. Plate 2D showed strong atrophic cytoplasm and basaloid morphology which agrees with previous work.20 The presence of tiny, infiltrative acini that have an aberrant nuclear structure and do not express high- molecular-weight cytokeratin is indicative of basal cell hyperplasia or basal cell cancer when considering the differential diagnosis. p63 showed a diffuse cytoplasmic expression with reaching basal cells. The average P63 reactivity in BPH patients is 10% since only one out of the 40 instances had a mild expression, compared to a CaP reactivity of 98 per cent in 34 cases with significant expression, 2 cases with mild expression, and 4 cases with moderate expression. This corroborates the works of Steurer et al where there are marked expressions in the basal cells.24\\n\\nin\\n\\nThis study's case distribution demonstrated that Bcl-2 immunohistochemistry expression in BPH and CaP as shown in Table 2. There is no expression at all in all the 40 BPH cases showed no significant expression but varying degrees of expressions were observed in CaP. Four cases showed mild reaction, 6 cases showed moderate reaction while 30 cases showed marked/intense reactions/significant expression. The positivity rate of BPH was 0% while CaP had 100% positivity. These results provide credence to earlier research that disproved the hypothesis of a connection between BCL-2 and BPH.12,25 In contrast to what was previously thought, two separate investigations have indicated that BCL-2 is overexpressed in CaP tissues in comparison to BPH cells. Cells in BPH have been found to have lower levels of the protein. Additionally, these investigations discovered a statistically significant link between CaP and BCL-2 overexpression.12 BCL-2 has a mean percentage reactivity in CaP. It has emerged as an effective predictive marker that is upregulated, supporting earlier studies that found BCL-2 overexpressed in CaP by actively promoting tumour cell death, resulting in the presence of oncogenic changes such as unchecked proliferation.26,27\\n\\nBCL-2 mostly stained the cytoplasm and just slightly the the epithelium and basement nuclei membrane in plate 2E and 2F. While PSA had the least amount of staining intensity in this investigation, p63 was the most reliable marker. p63 showed prognostic significance by establishing that the cancer is of prostatic gland origin and is recommended to be used alongside BCL-2 and PSA.28 Immunoassaying the reactivity of several slides containing BPH and CaP allowed researchers to determine the mean % reactivity of PSA, in both BPH and CaP. These p63, and BCL-2 premalignant and malignant lesions had markers that were expressed in a way that was comparable to BPH and\\n\\nthroughout\\n\\nInternational Journal of Scientific Reports | June 2024 | Vol 10 | Issue 6 Page 192\\n\\nOgunlayi AC et al. Int J Sci Rep. 2024 Jun;10(6):188-194\\n\\nCaP, respectively, and that was consistent with the expression of PSA, P63, and BCL-2. The prostatic cells' epithelial cells, which have lost their cell polarity and cytoplasmic components, are stained strongly with PSA.20\\n\\nwith one another to make up for their limitations and achieve pertinent findings.\\n\\nRecommendations\\n\\nThe photomicrograph of the section of control (BPH) as shown in plate 1 stained with H and E stain showed the BPH and CaP tissue at x100 magnification. This suggested that both premalignant and malignant lesions can be demonstrated using H and E procedures, and this is supported to reports by Bhowal et al.29\\n\\nAlthough H and E remain the gold standard for cancer diagnosis, expressions of these antibodies will help to establish the diagnostic impact of them in cancer diagnosis, which will invariably reduce over diagnosis and mortality resulting from CaP which invariably helps to achieve sustainable development goals. IHC indicators work better for CaP diagnosis. The combination of a basal cell marker with other markers (e.g. p63/PSA, p63/BCL-2) is a very powerful first-step immunostaining.\\n\\nThe photomicrograph of the section of the BPH tissue in plate 2A stained using PSA antibody showed mild/weak in BPH tissue with strong positive staining reaction in CaP as supported by Bonk et al and Leal et al.17,18\\n\\nThe photomicrograph of the section of the BPH tissue in plate 2C stained using p63 antibody. p63 showed mild/weak in BPH tissue while CaP showed a strong positive staining reaction in basal cells. This suggested that p63 is a good predictive staining biomarker in the demonstration of malignant prostate tissue.\\n\\nFunding: No funding sources Conflict of interest: None declared Ethical approval: The study was approved by the Institutional Ethics Committee Afe Babalola university health research ethical committee (HREC) Ado Ekiti with the approval number ABUADHREC/01/08/2023/200\\n\\nREFERENCES\\n\\nSimilarly, the photomicrograph of the section of the BPH tissue in plate 2E stained with BCL-2 showed no significant staining reaction in BPH while there was moderate to significantly marked expressions in CaP in plate 2F. There is a loss of cellular differentiation as evident by the marked brown staining of the cellular bodies, and there was infiltration of the glandular spaces and thus the loss of functions by the cells in malignant cases as reported by Li et al.30\\n\\nLimitations\\n\\nThis research study had few limitations such as little funding and thus restricted the number of biomarker investigation we could have carried out and also, there was a limited period of time for the selection of samples.\\n\\nCONCLUSION\\n\\nAs a result of PSA's various flaws as a biomarker, this study's findings indicate that it is not a differentiating biomarker in BPH and CaP. It has a 100% positive rate and an MPR of 94%. p63 is a basal cell marker, this study validated these findings as indicated by the marked staining tissues with a positivity of 100% and MPR of 98%. It shows discontinuous staining of basal cells in BPH but continuous in CaP. This study also showed BCL-2 as an important biomarker in malignancy. The expressions of these antibodies were observed in the progression from BPH to CaP and were relevant markers in the diagnosis of CaP. Although these markers are useful in predicting the development of BPH to CaP, none of them can be utilised in isolation to provide a conclusive conclusion. As a consequence, they should be used in conjunction\\n\\nintensity of\\n\\nthe malignant\\n\\n1. Rawla P. Epidemiology of Prostate Cancer. World Journal of Oncol. 2019;10(2):63-89.\\n\\n2. Bray F, Ferlay J, Soerjomataram I, Siegel RL, Torre LA, Jemal A. Global cancer statistics 2018: GLOBOCAN estimates of incidence and mortality worldwide for 36 cancers in 185 countries. CA Cancer J Clinicians. 2018;68(6):394-424.\\n\\n3. Oh WJ, Chung AM, Kim JS, Han JH, Hong SH, Lee JY, Choi YJ. Differential Immunohistochemical Profiles for Distinguishing Prostate Carcinoma and Urothelial Carcinoma. J Pathol Translational Med. 2016;50(5):345-54.\\n\\n4. Negoita S, Feuer EJ, Mariotto A, Cronin KA, Petkov VI, Hussey SK, et al. Annual Report to the Nation on the Status of Cancer, part II: Recent changes in prostate cancer trends and disease characteristics. Cancer. 2018;124(13):2801-14. Immunohistochemistry\\n\\nfor predictive biomarkers in non-small cell lung cancer. Translational Lung Cancer Res. 2017;6(5):570-87. 6. Khoury JD, Wang WL, Prieto VG, Medeiros LJ, Kalhor N, Hameed M, et al. Validation of Immunohistochemical Integral Biomarkers in the NCI-MATCH EAY131 Clinical Trial. Clin Cancer Res. 2018;24(3):521-31.\\n\\n5. Mino-Kenudson M.\\n\\nAssays\\n\\nfor\\n\\n7. De Matos LL, Trufelli DC, De Matos MGL, Da Silva Pinhal MA. Immunohistochemistry as an Important Tool in Biomarkers Detection and Clinical Practice. Biomarker Insights. 2010;5:9-20.\\n\\n8. Kachuri L, Hoffmann TJ, Jiang Y, Berndt SI, Shelley JP, Schaffer KR, et al. Genetically adjusted PSA levels for prostate cancer screening. Nature Med. 2023;29(6):1412-23.\\n\\n9. Egevad L, Delahunt B, Furusato B, Tsuzuki T, Yaxley J, Samaratunga H. Benign mimics of prostate cancer. Pathology. 2021;53(1):26-35.\\n\\nInternational Journal of Scientific Reports | June 2024 | Vol 10 | Issue 6 Page 193\\n\\nOgunlayi AC et al. Int J Sci Rep. 2024 Jun;10(6):188-194\\n\\n10. Botezatu A, Iancu IV, Popa O, Plesa A, Manda D, Huica I, et al. Mechanisms of Oncogene Activation. In New Aspects in Molecular and Cellular Mechanisms of Human Carcinogenesis. InTech. 2016.\\n\\n11. Fedchenko N, Reifenrath J. Different approaches for interpretation immuno- histochemistry analysis results in the bone tissue-a review. Diagnostic Pathol. 2014;9(1):221. of\\n\\nfrom usual-type prostatic molecularly distinct adenocarcinomas. Modern Pathol. 2015;28(3):446- 56.\\n\\n22. Herawi M, Epstein\\n\\nImmunohistochemical Antibody Cocktail (p63/HMWCK/ AMACR) of Ductal Adenocarcinoma and Gleason Pattern 4 Cribriform and Noncribriform Acinar Adenocarcinomas of the Prostate. Am J Surgical Pathol. 2007;31(6):889-94.\\n\\nJI. Staining\\n\\n12. Alshahmi E, Obida E, Emaetig F, Elgaraboli F, Alqawi O. The Expression Profile of BCL-2 Protein in Prostate Cancer. Clin Oncol. 2021;6:1-5.\\n\\n13. Pataky MW, Young WF, Nair KS. Hormonal and Metabolic Changes of Aging and the Influence of Lifestyle Modifications. Mayo Clin Proceedings. 2021;96(3):788-814.\\n\\n14. Liu YF, Shu X, Qiao XF, Ai GY, Liu L, Liao J, et al. Radiomics-Based Machine Learning Models for Immunohistochemical Predicting Expression: A Noninvasive Diagnostic Tool for Prostate Oncol. 2022;12:911426. in\\n\\n15. Ben-Jemaa A, Bouraoui Y, Sallami S, Banasr A, Rais NB, Ouertani L, et al. Co-expression and impact of prostate-specific membrane antigen and prostate specific J Experimental Clin Cancer Res. 2010;29(1):171. 16. Van der Heul-Nieuwenhuijsen L, Hendriksen PJM, Van der Kwast TH, Jenster G. Gene expression profiling of the human prostate zones. BJU International. 2006;98(4):886-97. in prostatic pathologies.\\n\\nantigen\\n\\n17. Bonk S, Kluth M, Hube-Magg C, Polonski A, Soekeland G, Makropidi-Fraune G, et al. Prognostic and diagnostic role of PSA immunohistochemistry: A tissue microarray study on 21,000 normal and cancerous tissues. Oncotarget. 2019;10(52):5439-53. 18. Leal J, Welton NJ, Martin RM, Donovan J, Hamdy F, Neal D, et al. Estimating the sensitivity of a prostate cancer screening programme for different PSA cut-off levels: A UK case study. Cancer Epidemiol. 2018;52:99-105.\\n\\n23. Wu A, Kunju LP. Prostate Cancer with Aberrant Diffuse p63 Expression: Report of a Case and Review of the Literature and Morphologic Mimics. Arch Pathol Laboratory Med. 2013;137(9):1179-84.\\n\\n24. Steurer S, Riemann C, Büscheck F, Luebke AM, Kluth M, Hube-Magg C, et al. p63 expression in human tissue microarray study on 10,200 tumors. Biomarker Res. 2021;9(1):7. tissues: a\\n\\n25. Ma D, Zhou Z, Yang B, He Q, Zhang XH. Association of molecular biomarkers expression with biochemical recurrence in prostate cancer through tissue microarray immunostaining. Oncol Letters. 2015;10(4):2185-91.\\n\\n26. Ozekinci S, Uzunlar AK, Senturk S, Gedik A, Buyukbayram H, Mizrak B. Expression of E- Cadherin, Cox-2, P53 and BCL-2 in Prostate Carcinomas: Correlation with Tumor Differentiation and Biotechnol Biotechnological Equip. 2010;24(4):2112-6. Potential.\\n\\n27. Eom YH, Kim HS, Lee A, Song BJ, Chae BJ. BCL2 as a Subtype-Specific Prognostic Marker for Breast Cancer. J Breast Cancer. 2016;19(3):252.\\n\\n28. Patil T, Bernard B. Complications of Androgen Deprivation Therapy in Men with Prostate Cancer. Oncology (Williston Park, N.Y.). 2018;32(9):470-74. 29. Bhowal A, Majumder S, Ghosh S, Basu S, Sen D, Roychowdhury S, et al. Pathway-based expression profiling of benign prostatic hyperplasia and prostate cancer delineates an immunophilin molecule associated with cancer progression. Scientific Rep. 2017;7(1):9763.\\n\\n19. Nielsen MM, Tolbod LP, Borre M, Høyer S, Harms HJ, Sørensen J, et al. The relationship between tumor aggressiveness and cholinergic PET imaging in prostate cancer tissue. A proof-of-concept study. Am J Nuclear Med Molecular Imaging. 2019;9(3):185- 92.\\n\\n30. Li F, Pascal LE, Zhou J, Zhou Y, Wang K, Parwani AV, et al. BCL-2 and BCL-XL expression are down- regulated in benign prostate hyperplasia nodules and not affected by finasteride and/or celecoxib. Am J Clin Experim Urol. 2018;6(1):1-10.\\n\\n20. Kalantari MR, Anvari K, Jabbari H, Tabrizi FV. p63 is more sensitive and specific than 34βE12 to differentiate adenocarcinoma of prostate from cancer mimickers. Iran J Basic Med Sci. 2014;17(7):497- 501.\\n\\n21. Tan HL, Haffner MC, Esopi DM, Vaghasia AM, Giannico GA, Ross HM, al. Prostate adenocarcinomas aberrantly expressing p63 are et\\n\\nCite this article as: Ogunlayi AC, Ekundina VO, Kehinde AO, Enye LA, Aremu AO. Assessing the diagnostic impact of P63, PSA and BCL-2 proteins in premalignant and malignant prostate tissues. Int J Sci Rep 2024;10(6):188-94.\\n\\nInternational Journal of Scientific Reports | June 2024 | Vol 10 | Issue 6 Page 194\""
      ]
     },
     "execution_count": 4,
     "metadata": {},
     "output_type": "execute_result"
    }
   ],
   "source": [
    "# preview first page\n",
    "data[0].page_content"
   ]
  },
  {
   "cell_type": "markdown",
   "id": "f1728c54-cc60-471b-8f5f-2998cc6f8201",
   "metadata": {},
   "source": [
    "# Vector Embeddings"
   ]
  },
  {
   "cell_type": "code",
   "execution_count": 5,
   "id": "73d44b65-36b9-4bbc-8896-4b8807aeb916",
   "metadata": {
    "scrolled": true
   },
   "outputs": [
    {
     "name": "stderr",
     "output_type": "stream",
     "text": [
      "\u001b[?25lpulling manifest â ™ \u001b[?25h\u001b[?25l\u001b[2K\u001b[1Gpulling manifest â ¹ \u001b[?25h\u001b[?25l\u001b[2K\u001b[1Gpulling manifest â ¸ \u001b[?25h\u001b[?25l\u001b[2K\u001b[1Gpulling manifest â ¼ \u001b[?25h\u001b[?25l\u001b[2K\u001b[1Gpulling manifest â ¼ \u001b[?25h\u001b[?25l\u001b[2K\u001b[1Gpulling manifest â ¦ \u001b[?25h\u001b[?25l\u001b[2K\u001b[1Gpulling manifest â § \u001b[?25h\u001b[?25l\u001b[2K\u001b[1Gpulling manifest â ‡ \u001b[?25h\u001b[?25l\u001b[2K\u001b[1Gpulling manifest â � \u001b[?25h\u001b[?25l\u001b[2K\u001b[1Gpulling manifest â ‹ \u001b[?25h\u001b[?25l\u001b[2K\u001b[1Gpulling manifest â ™ \u001b[?25h\u001b[?25l\u001b[2K\u001b[1Gpulling manifest â ¹ \u001b[?25h\u001b[?25l\u001b[2K\u001b[1Gpulling manifest â ¸ \u001b[?25h\u001b[?25l\u001b[2K\u001b[1Gpulling manifest â ¼ \u001b[?25h\u001b[?25l\u001b[2K\u001b[1Gpulling manifest â ´ \u001b[?25h\u001b[?25l\u001b[2K\u001b[1Gpulling manifest â ¦ \u001b[?25h\u001b[?25l\u001b[2K\u001b[1Gpulling manifest â ¦ \u001b[?25h\u001b[?25l\u001b[2K\u001b[1Gpulling manifest â ‡ \u001b[?25h\u001b[?25l\u001b[2K\u001b[1Gpulling manifest â � \u001b[?25h\u001b[?25l\u001b[2K\u001b[1Gpulling manifest â ‹ \u001b[?25h\u001b[?25l\u001b[2K\u001b[1Gpulling manifest â ™ \u001b[?25h\u001b[?25l\u001b[2K\u001b[1Gpulling manifest â ¹ \u001b[?25h\u001b[?25l\u001b[2K\u001b[1Gpulling manifest â ¹ \u001b[?25h\u001b[?25l\u001b[2K\u001b[1Gpulling manifest â ¼ \u001b[?25h\u001b[?25l\u001b[2K\u001b[1Gpulling manifest â ´ \u001b[?25h\u001b[?25l\u001b[2K\u001b[1Gpulling manifest â ¦ \u001b[?25h\u001b[?25l\u001b[2K\u001b[1Gpulling manifest â § \u001b[?25h\u001b[?25l\u001b[2K\u001b[1Gpulling manifest â ‡ \u001b[?25h\u001b[?25l\u001b[2K\u001b[1Gpulling manifest â � \u001b[?25h\u001b[?25l\u001b[2K\u001b[1Gpulling manifest â ‹ \u001b[?25h\u001b[?25l\u001b[2K\u001b[1Gpulling manifest â ™ \u001b[?25h\u001b[?25l\u001b[2K\u001b[1Gpulling manifest â ¹ \u001b[?25h\u001b[?25l\u001b[2K\u001b[1Gpulling manifest â ¸ \u001b[?25h\u001b[?25l\u001b[2K\u001b[1Gpulling manifest â ¼ \u001b[?25h\u001b[?25l\u001b[2K\u001b[1Gpulling manifest â ´ \u001b[?25h\u001b[?25l\u001b[2K\u001b[1Gpulling manifest â ¦ \u001b[?25h\u001b[?25l\u001b[2K\u001b[1Gpulling manifest â ¦ \u001b[?25h\u001b[?25l\u001b[2K\u001b[1Gpulling manifest â ‡ \u001b[?25h\u001b[?25l\u001b[2K\u001b[1Gpulling manifest â � \u001b[?25h\u001b[?25l\u001b[2K\u001b[1Gpulling manifest â ‹ \u001b[?25h\u001b[?25l\u001b[2K\u001b[1Gpulling manifest â ™ \u001b[?25h\u001b[?25l\u001b[2K\u001b[1Gpulling manifest â ™ \u001b[?25h\u001b[?25l\u001b[2K\u001b[1Gpulling manifest â ¸ \u001b[?25h\u001b[?25l\u001b[2K\u001b[1Gpulling manifest â ¼ \u001b[?25h\u001b[?25l\u001b[2K\u001b[1Gpulling manifest â ´ \u001b[?25h\u001b[?25l\u001b[2K\u001b[1Gpulling manifest \n",
      "pulling 970aa74c0a90... 100% â–•â–ˆâ–ˆâ–ˆâ–ˆâ–ˆâ–ˆâ–ˆâ–ˆâ–ˆâ–ˆâ–ˆâ–ˆâ–ˆâ–ˆâ–ˆâ–ˆâ–� 274 MB                         \n",
      "pulling c71d239df917... 100% â–•â–ˆâ–ˆâ–ˆâ–ˆâ–ˆâ–ˆâ–ˆâ–ˆâ–ˆâ–ˆâ–ˆâ–ˆâ–ˆâ–ˆâ–ˆâ–ˆâ–�  11 KB                         \n",
      "pulling ce4a164fc046... 100% â–•â–ˆâ–ˆâ–ˆâ–ˆâ–ˆâ–ˆâ–ˆâ–ˆâ–ˆâ–ˆâ–ˆâ–ˆâ–ˆâ–ˆâ–ˆâ–ˆâ–�   17 B                         \n",
      "pulling 31df23ea7daa... 100% â–•â–ˆâ–ˆâ–ˆâ–ˆâ–ˆâ–ˆâ–ˆâ–ˆâ–ˆâ–ˆâ–ˆâ–ˆâ–ˆâ–ˆâ–ˆâ–ˆâ–�  420 B                         \n",
      "verifying sha256 digest â ‹ \u001b[?25h\u001b[?25l\u001b[2K\u001b[1G\u001b[A\u001b[2K\u001b[1G\u001b[A\u001b[2K\u001b[1G\u001b[A\u001b[2K\u001b[1G\u001b[A\u001b[2K\u001b[1G\u001b[A\u001b[2K\u001b[1Gpulling manifest \n",
      "pulling 970aa74c0a90... 100% â–•â–ˆâ–ˆâ–ˆâ–ˆâ–ˆâ–ˆâ–ˆâ–ˆâ–ˆâ–ˆâ–ˆâ–ˆâ–ˆâ–ˆâ–ˆâ–ˆâ–� 274 MB                         \n",
      "pulling c71d239df917... 100% â–•â–ˆâ–ˆâ–ˆâ–ˆâ–ˆâ–ˆâ–ˆâ–ˆâ–ˆâ–ˆâ–ˆâ–ˆâ–ˆâ–ˆâ–ˆâ–ˆâ–�  11 KB                         \n",
      "pulling ce4a164fc046... 100% â–•â–ˆâ–ˆâ–ˆâ–ˆâ–ˆâ–ˆâ–ˆâ–ˆâ–ˆâ–ˆâ–ˆâ–ˆâ–ˆâ–ˆâ–ˆâ–ˆâ–�   17 B                         \n",
      "pulling 31df23ea7daa... 100% â–•â–ˆâ–ˆâ–ˆâ–ˆâ–ˆâ–ˆâ–ˆâ–ˆâ–ˆâ–ˆâ–ˆâ–ˆâ–ˆâ–ˆâ–ˆâ–ˆâ–�  420 B                         \n",
      "verifying sha256 digest â ™ \u001b[?25h\u001b[?25l\u001b[2K\u001b[1G\u001b[A\u001b[2K\u001b[1G\u001b[A\u001b[2K\u001b[1G\u001b[A\u001b[2K\u001b[1G\u001b[A\u001b[2K\u001b[1G\u001b[A\u001b[2K\u001b[1Gpulling manifest \n",
      "pulling 970aa74c0a90... 100% â–•â–ˆâ–ˆâ–ˆâ–ˆâ–ˆâ–ˆâ–ˆâ–ˆâ–ˆâ–ˆâ–ˆâ–ˆâ–ˆâ–ˆâ–ˆâ–ˆâ–� 274 MB                         \n",
      "pulling c71d239df917... 100% â–•â–ˆâ–ˆâ–ˆâ–ˆâ–ˆâ–ˆâ–ˆâ–ˆâ–ˆâ–ˆâ–ˆâ–ˆâ–ˆâ–ˆâ–ˆâ–ˆâ–�  11 KB                         \n",
      "pulling ce4a164fc046... 100% â–•â–ˆâ–ˆâ–ˆâ–ˆâ–ˆâ–ˆâ–ˆâ–ˆâ–ˆâ–ˆâ–ˆâ–ˆâ–ˆâ–ˆâ–ˆâ–ˆâ–�   17 B                         \n",
      "pulling 31df23ea7daa... 100% â–•â–ˆâ–ˆâ–ˆâ–ˆâ–ˆâ–ˆâ–ˆâ–ˆâ–ˆâ–ˆâ–ˆâ–ˆâ–ˆâ–ˆâ–ˆâ–ˆâ–�  420 B                         \n",
      "verifying sha256 digest â ¹ \u001b[?25h\u001b[?25l\u001b[2K\u001b[1G\u001b[A\u001b[2K\u001b[1G\u001b[A\u001b[2K\u001b[1G\u001b[A\u001b[2K\u001b[1G\u001b[A\u001b[2K\u001b[1G\u001b[A\u001b[2K\u001b[1Gpulling manifest \n",
      "pulling 970aa74c0a90... 100% â–•â–ˆâ–ˆâ–ˆâ–ˆâ–ˆâ–ˆâ–ˆâ–ˆâ–ˆâ–ˆâ–ˆâ–ˆâ–ˆâ–ˆâ–ˆâ–ˆâ–� 274 MB                         \n",
      "pulling c71d239df917... 100% â–•â–ˆâ–ˆâ–ˆâ–ˆâ–ˆâ–ˆâ–ˆâ–ˆâ–ˆâ–ˆâ–ˆâ–ˆâ–ˆâ–ˆâ–ˆâ–ˆâ–�  11 KB                         \n",
      "pulling ce4a164fc046... 100% â–•â–ˆâ–ˆâ–ˆâ–ˆâ–ˆâ–ˆâ–ˆâ–ˆâ–ˆâ–ˆâ–ˆâ–ˆâ–ˆâ–ˆâ–ˆâ–ˆâ–�   17 B                         \n",
      "pulling 31df23ea7daa... 100% â–•â–ˆâ–ˆâ–ˆâ–ˆâ–ˆâ–ˆâ–ˆâ–ˆâ–ˆâ–ˆâ–ˆâ–ˆâ–ˆâ–ˆâ–ˆâ–ˆâ–�  420 B                         \n",
      "verifying sha256 digest â ¸ \u001b[?25h\u001b[?25l\u001b[2K\u001b[1G\u001b[A\u001b[2K\u001b[1G\u001b[A\u001b[2K\u001b[1G\u001b[A\u001b[2K\u001b[1G\u001b[A\u001b[2K\u001b[1G\u001b[A\u001b[2K\u001b[1Gpulling manifest \n",
      "pulling 970aa74c0a90... 100% â–•â–ˆâ–ˆâ–ˆâ–ˆâ–ˆâ–ˆâ–ˆâ–ˆâ–ˆâ–ˆâ–ˆâ–ˆâ–ˆâ–ˆâ–ˆâ–ˆâ–� 274 MB                         \n",
      "pulling c71d239df917... 100% â–•â–ˆâ–ˆâ–ˆâ–ˆâ–ˆâ–ˆâ–ˆâ–ˆâ–ˆâ–ˆâ–ˆâ–ˆâ–ˆâ–ˆâ–ˆâ–ˆâ–�  11 KB                         \n",
      "pulling ce4a164fc046... 100% â–•â–ˆâ–ˆâ–ˆâ–ˆâ–ˆâ–ˆâ–ˆâ–ˆâ–ˆâ–ˆâ–ˆâ–ˆâ–ˆâ–ˆâ–ˆâ–ˆâ–�   17 B                         \n",
      "pulling 31df23ea7daa... 100% â–•â–ˆâ–ˆâ–ˆâ–ˆâ–ˆâ–ˆâ–ˆâ–ˆâ–ˆâ–ˆâ–ˆâ–ˆâ–ˆâ–ˆâ–ˆâ–ˆâ–�  420 B                         \n",
      "verifying sha256 digest â ¼ \u001b[?25h\u001b[?25l\u001b[2K\u001b[1G\u001b[A\u001b[2K\u001b[1G\u001b[A\u001b[2K\u001b[1G\u001b[A\u001b[2K\u001b[1G\u001b[A\u001b[2K\u001b[1G\u001b[A\u001b[2K\u001b[1Gpulling manifest \n",
      "pulling 970aa74c0a90... 100% â–•â–ˆâ–ˆâ–ˆâ–ˆâ–ˆâ–ˆâ–ˆâ–ˆâ–ˆâ–ˆâ–ˆâ–ˆâ–ˆâ–ˆâ–ˆâ–ˆâ–� 274 MB                         \n",
      "pulling c71d239df917... 100% â–•â–ˆâ–ˆâ–ˆâ–ˆâ–ˆâ–ˆâ–ˆâ–ˆâ–ˆâ–ˆâ–ˆâ–ˆâ–ˆâ–ˆâ–ˆâ–ˆâ–�  11 KB                         \n",
      "pulling ce4a164fc046... 100% â–•â–ˆâ–ˆâ–ˆâ–ˆâ–ˆâ–ˆâ–ˆâ–ˆâ–ˆâ–ˆâ–ˆâ–ˆâ–ˆâ–ˆâ–ˆâ–ˆâ–�   17 B                         \n",
      "pulling 31df23ea7daa... 100% â–•â–ˆâ–ˆâ–ˆâ–ˆâ–ˆâ–ˆâ–ˆâ–ˆâ–ˆâ–ˆâ–ˆâ–ˆâ–ˆâ–ˆâ–ˆâ–ˆâ–�  420 B                         \n",
      "verifying sha256 digest â ´ \u001b[?25h\u001b[?25l\u001b[2K\u001b[1G\u001b[A\u001b[2K\u001b[1G\u001b[A\u001b[2K\u001b[1G\u001b[A\u001b[2K\u001b[1G\u001b[A\u001b[2K\u001b[1G\u001b[A\u001b[2K\u001b[1Gpulling manifest \n",
      "pulling 970aa74c0a90... 100% â–•â–ˆâ–ˆâ–ˆâ–ˆâ–ˆâ–ˆâ–ˆâ–ˆâ–ˆâ–ˆâ–ˆâ–ˆâ–ˆâ–ˆâ–ˆâ–ˆâ–� 274 MB                         \n",
      "pulling c71d239df917... 100% â–•â–ˆâ–ˆâ–ˆâ–ˆâ–ˆâ–ˆâ–ˆâ–ˆâ–ˆâ–ˆâ–ˆâ–ˆâ–ˆâ–ˆâ–ˆâ–ˆâ–�  11 KB                         \n",
      "pulling ce4a164fc046... 100% â–•â–ˆâ–ˆâ–ˆâ–ˆâ–ˆâ–ˆâ–ˆâ–ˆâ–ˆâ–ˆâ–ˆâ–ˆâ–ˆâ–ˆâ–ˆâ–ˆâ–�   17 B                         \n",
      "pulling 31df23ea7daa... 100% â–•â–ˆâ–ˆâ–ˆâ–ˆâ–ˆâ–ˆâ–ˆâ–ˆâ–ˆâ–ˆâ–ˆâ–ˆâ–ˆâ–ˆâ–ˆâ–ˆâ–�  420 B                         \n",
      "verifying sha256 digest â ¦ \u001b[?25h\u001b[?25l\u001b[2K\u001b[1G\u001b[A\u001b[2K\u001b[1G\u001b[A\u001b[2K\u001b[1G\u001b[A\u001b[2K\u001b[1G\u001b[A\u001b[2K\u001b[1G\u001b[A\u001b[2K\u001b[1Gpulling manifest \n",
      "pulling 970aa74c0a90... 100% â–•â–ˆâ–ˆâ–ˆâ–ˆâ–ˆâ–ˆâ–ˆâ–ˆâ–ˆâ–ˆâ–ˆâ–ˆâ–ˆâ–ˆâ–ˆâ–ˆâ–� 274 MB                         \n",
      "pulling c71d239df917... 100% â–•â–ˆâ–ˆâ–ˆâ–ˆâ–ˆâ–ˆâ–ˆâ–ˆâ–ˆâ–ˆâ–ˆâ–ˆâ–ˆâ–ˆâ–ˆâ–ˆâ–�  11 KB                         \n",
      "pulling ce4a164fc046... 100% â–•â–ˆâ–ˆâ–ˆâ–ˆâ–ˆâ–ˆâ–ˆâ–ˆâ–ˆâ–ˆâ–ˆâ–ˆâ–ˆâ–ˆâ–ˆâ–ˆâ–�   17 B                         \n",
      "pulling 31df23ea7daa... 100% â–•â–ˆâ–ˆâ–ˆâ–ˆâ–ˆâ–ˆâ–ˆâ–ˆâ–ˆâ–ˆâ–ˆâ–ˆâ–ˆâ–ˆâ–ˆâ–ˆâ–�  420 B                         \n",
      "verifying sha256 digest â § \u001b[?25h\u001b[?25l\u001b[2K\u001b[1G\u001b[A\u001b[2K\u001b[1G\u001b[A\u001b[2K\u001b[1G\u001b[A\u001b[2K\u001b[1G\u001b[A\u001b[2K\u001b[1G\u001b[A\u001b[2K\u001b[1Gpulling manifest \n",
      "pulling 970aa74c0a90... 100% â–•â–ˆâ–ˆâ–ˆâ–ˆâ–ˆâ–ˆâ–ˆâ–ˆâ–ˆâ–ˆâ–ˆâ–ˆâ–ˆâ–ˆâ–ˆâ–ˆâ–� 274 MB                         \n",
      "pulling c71d239df917... 100% â–•â–ˆâ–ˆâ–ˆâ–ˆâ–ˆâ–ˆâ–ˆâ–ˆâ–ˆâ–ˆâ–ˆâ–ˆâ–ˆâ–ˆâ–ˆâ–ˆâ–�  11 KB                         \n",
      "pulling ce4a164fc046... 100% â–•â–ˆâ–ˆâ–ˆâ–ˆâ–ˆâ–ˆâ–ˆâ–ˆâ–ˆâ–ˆâ–ˆâ–ˆâ–ˆâ–ˆâ–ˆâ–ˆâ–�   17 B                         \n",
      "pulling 31df23ea7daa... 100% â–•â–ˆâ–ˆâ–ˆâ–ˆâ–ˆâ–ˆâ–ˆâ–ˆâ–ˆâ–ˆâ–ˆâ–ˆâ–ˆâ–ˆâ–ˆâ–ˆâ–�  420 B                         \n",
      "verifying sha256 digest â ‡ \u001b[?25h\u001b[?25l\u001b[2K\u001b[1G\u001b[A\u001b[2K\u001b[1G\u001b[A\u001b[2K\u001b[1G\u001b[A\u001b[2K\u001b[1G\u001b[A\u001b[2K\u001b[1G\u001b[A\u001b[2K\u001b[1Gpulling manifest \n",
      "pulling 970aa74c0a90... 100% â–•â–ˆâ–ˆâ–ˆâ–ˆâ–ˆâ–ˆâ–ˆâ–ˆâ–ˆâ–ˆâ–ˆâ–ˆâ–ˆâ–ˆâ–ˆâ–ˆâ–� 274 MB                         \n",
      "pulling c71d239df917... 100% â–•â–ˆâ–ˆâ–ˆâ–ˆâ–ˆâ–ˆâ–ˆâ–ˆâ–ˆâ–ˆâ–ˆâ–ˆâ–ˆâ–ˆâ–ˆâ–ˆâ–�  11 KB                         \n",
      "pulling ce4a164fc046... 100% â–•â–ˆâ–ˆâ–ˆâ–ˆâ–ˆâ–ˆâ–ˆâ–ˆâ–ˆâ–ˆâ–ˆâ–ˆâ–ˆâ–ˆâ–ˆâ–ˆâ–�   17 B                         \n",
      "pulling 31df23ea7daa... 100% â–•â–ˆâ–ˆâ–ˆâ–ˆâ–ˆâ–ˆâ–ˆâ–ˆâ–ˆâ–ˆâ–ˆâ–ˆâ–ˆâ–ˆâ–ˆâ–ˆâ–�  420 B                         \n",
      "verifying sha256 digest \n",
      "writing manifest \n",
      "removing any unused layers \n",
      "success \u001b[?25h\n"
     ]
    }
   ],
   "source": [
    "!ollama pull nomic-embed-text "
   ]
  },
  {
   "cell_type": "code",
   "execution_count": 6,
   "id": "a65f2b06-df86-4c8a-ab80-272df06cbf83",
   "metadata": {},
   "outputs": [
    {
     "name": "stdout",
     "output_type": "stream",
     "text": [
      "NAME                   \tID          \tSIZE  \tMODIFIED               \n",
      "nomic-embed-text:latest\t0a109f422b47\t274 MB\tLess than a second ago\t\n",
      "gemma:2b               \tb50d6c999e59\t1.7 GB\t3 hours ago           \t\n"
     ]
    }
   ],
   "source": [
    "!ollama list"
   ]
  },
  {
   "cell_type": "code",
   "execution_count": 7,
   "id": "92af3ab1-a7d1-42df-8ffe-e89d5a401887",
   "metadata": {
    "scrolled": true
   },
   "outputs": [
    {
     "name": "stdout",
     "output_type": "stream",
     "text": [
      "Defaulting to user installation because normal site-packages is not writeable\n",
      "Requirement already satisfied: chromadb in c:\\users\\omthe\\appdata\\roaming\\python\\python311\\site-packages (0.5.0)\n",
      "Requirement already satisfied: langchain-text-splitters in c:\\users\\omthe\\appdata\\roaming\\python\\python311\\site-packages (0.0.1)\n",
      "Requirement already satisfied: build>=1.0.3 in c:\\users\\omthe\\appdata\\roaming\\python\\python311\\site-packages (from chromadb) (1.1.1)\n",
      "Requirement already satisfied: requests>=2.28 in c:\\users\\omthe\\appdata\\roaming\\python\\python311\\site-packages (from chromadb) (2.31.0)\n",
      "Requirement already satisfied: pydantic>=1.9 in c:\\users\\omthe\\appdata\\roaming\\python\\python311\\site-packages (from chromadb) (1.10.14)\n",
      "Requirement already satisfied: chroma-hnswlib==0.7.3 in c:\\users\\omthe\\appdata\\roaming\\python\\python311\\site-packages (from chromadb) (0.7.3)\n",
      "Requirement already satisfied: fastapi>=0.95.2 in c:\\users\\omthe\\appdata\\roaming\\python\\python311\\site-packages (from chromadb) (0.96.1)\n",
      "Requirement already satisfied: uvicorn>=0.18.3 in c:\\users\\omthe\\appdata\\roaming\\python\\python311\\site-packages (from uvicorn[standard]>=0.18.3->chromadb) (0.20.0)\n",
      "Requirement already satisfied: numpy>=1.22.5 in c:\\users\\omthe\\appdata\\roaming\\python\\python311\\site-packages (from chromadb) (1.26.4)\n",
      "Requirement already satisfied: posthog>=2.4.0 in c:\\users\\omthe\\appdata\\roaming\\python\\python311\\site-packages (from chromadb) (3.5.0)\n",
      "Requirement already satisfied: typing-extensions>=4.5.0 in c:\\users\\omthe\\appdata\\roaming\\python\\python311\\site-packages (from chromadb) (4.9.0)\n",
      "Requirement already satisfied: onnxruntime>=1.14.1 in c:\\users\\omthe\\appdata\\roaming\\python\\python311\\site-packages (from chromadb) (1.18.0)\n",
      "Requirement already satisfied: opentelemetry-api>=1.2.0 in c:\\users\\omthe\\appdata\\roaming\\python\\python311\\site-packages (from chromadb) (1.24.0)\n",
      "Requirement already satisfied: opentelemetry-exporter-otlp-proto-grpc>=1.2.0 in c:\\users\\omthe\\appdata\\roaming\\python\\python311\\site-packages (from chromadb) (1.24.0)\n",
      "Requirement already satisfied: opentelemetry-instrumentation-fastapi>=0.41b0 in c:\\users\\omthe\\appdata\\roaming\\python\\python311\\site-packages (from chromadb) (0.45b0)\n",
      "Requirement already satisfied: opentelemetry-sdk>=1.2.0 in c:\\users\\omthe\\appdata\\roaming\\python\\python311\\site-packages (from chromadb) (1.24.0)\n",
      "Requirement already satisfied: tokenizers>=0.13.2 in c:\\users\\omthe\\appdata\\roaming\\python\\python311\\site-packages (from chromadb) (0.19.1)\n",
      "Requirement already satisfied: pypika>=0.48.9 in c:\\users\\omthe\\appdata\\roaming\\python\\python311\\site-packages (from chromadb) (0.48.9)\n",
      "Requirement already satisfied: tqdm>=4.65.0 in c:\\users\\omthe\\appdata\\roaming\\python\\python311\\site-packages (from chromadb) (4.66.1)\n",
      "Requirement already satisfied: overrides>=7.3.1 in c:\\users\\omthe\\appdata\\roaming\\python\\python311\\site-packages (from chromadb) (7.4.0)\n",
      "Requirement already satisfied: importlib-resources in c:\\users\\omthe\\appdata\\roaming\\python\\python311\\site-packages (from chromadb) (6.1.1)\n",
      "Requirement already satisfied: grpcio>=1.58.0 in c:\\users\\omthe\\appdata\\roaming\\python\\python311\\site-packages (from chromadb) (1.60.1)\n",
      "Requirement already satisfied: bcrypt>=4.0.1 in c:\\users\\omthe\\appdata\\roaming\\python\\python311\\site-packages (from chromadb) (4.1.3)\n",
      "Requirement already satisfied: typer>=0.9.0 in c:\\users\\omthe\\appdata\\roaming\\python\\python311\\site-packages (from chromadb) (0.9.0)\n",
      "Requirement already satisfied: kubernetes>=28.1.0 in c:\\users\\omthe\\appdata\\roaming\\python\\python311\\site-packages (from chromadb) (29.0.0)\n",
      "Requirement already satisfied: tenacity>=8.2.3 in c:\\users\\omthe\\appdata\\roaming\\python\\python311\\site-packages (from chromadb) (8.2.3)\n",
      "Requirement already satisfied: PyYAML>=6.0.0 in c:\\users\\omthe\\appdata\\roaming\\python\\python311\\site-packages (from chromadb) (6.0.1)\n",
      "Requirement already satisfied: mmh3>=4.0.1 in c:\\users\\omthe\\appdata\\roaming\\python\\python311\\site-packages (from chromadb) (4.1.0)\n",
      "Requirement already satisfied: orjson>=3.9.12 in c:\\users\\omthe\\appdata\\roaming\\python\\python311\\site-packages (from chromadb) (3.9.15)\n",
      "Requirement already satisfied: langchain-core<0.2.0,>=0.1.28 in c:\\users\\omthe\\appdata\\roaming\\python\\python311\\site-packages (from langchain-text-splitters) (0.1.32)\n",
      "Requirement already satisfied: packaging>=19.0 in c:\\users\\omthe\\appdata\\roaming\\python\\python311\\site-packages (from build>=1.0.3->chromadb) (23.2)\n",
      "Requirement already satisfied: pyproject_hooks in c:\\users\\omthe\\appdata\\roaming\\python\\python311\\site-packages (from build>=1.0.3->chromadb) (1.0.0)\n",
      "Requirement already satisfied: colorama in c:\\users\\omthe\\appdata\\roaming\\python\\python311\\site-packages (from build>=1.0.3->chromadb) (0.4.6)\n",
      "Requirement already satisfied: starlette<0.28.0,>=0.27.0 in c:\\users\\omthe\\appdata\\roaming\\python\\python311\\site-packages (from fastapi>=0.95.2->chromadb) (0.27.0)\n",
      "Requirement already satisfied: certifi>=14.05.14 in c:\\users\\omthe\\appdata\\roaming\\python\\python311\\site-packages (from kubernetes>=28.1.0->chromadb) (2024.2.2)\n",
      "Requirement already satisfied: six>=1.9.0 in c:\\users\\omthe\\appdata\\roaming\\python\\python311\\site-packages (from kubernetes>=28.1.0->chromadb) (1.16.0)\n",
      "Requirement already satisfied: python-dateutil>=2.5.3 in c:\\users\\omthe\\appdata\\roaming\\python\\python311\\site-packages (from kubernetes>=28.1.0->chromadb) (2.8.2)\n",
      "Requirement already satisfied: google-auth>=1.0.1 in c:\\users\\omthe\\appdata\\roaming\\python\\python311\\site-packages (from kubernetes>=28.1.0->chromadb) (2.27.0)\n",
      "Requirement already satisfied: websocket-client!=0.40.0,!=0.41.*,!=0.42.*,>=0.32.0 in c:\\users\\omthe\\appdata\\roaming\\python\\python311\\site-packages (from kubernetes>=28.1.0->chromadb) (1.6.4)\n",
      "Requirement already satisfied: requests-oauthlib in c:\\users\\omthe\\appdata\\roaming\\python\\python311\\site-packages (from kubernetes>=28.1.0->chromadb) (1.3.1)\n",
      "Requirement already satisfied: oauthlib>=3.2.2 in c:\\users\\omthe\\appdata\\roaming\\python\\python311\\site-packages (from kubernetes>=28.1.0->chromadb) (3.2.2)\n",
      "Requirement already satisfied: urllib3>=1.24.2 in c:\\users\\omthe\\appdata\\roaming\\python\\python311\\site-packages (from kubernetes>=28.1.0->chromadb) (2.0.7)\n",
      "Requirement already satisfied: anyio<5,>=3 in c:\\users\\omthe\\appdata\\roaming\\python\\python311\\site-packages (from langchain-core<0.2.0,>=0.1.28->langchain-text-splitters) (4.2.0)\n",
      "Requirement already satisfied: jsonpatch<2.0,>=1.33 in c:\\users\\omthe\\appdata\\roaming\\python\\python311\\site-packages (from langchain-core<0.2.0,>=0.1.28->langchain-text-splitters) (1.33)\n",
      "Requirement already satisfied: langsmith<0.2.0,>=0.1.0 in c:\\users\\omthe\\appdata\\roaming\\python\\python311\\site-packages (from langchain-core<0.2.0,>=0.1.28->langchain-text-splitters) (0.1.26)\n",
      "Requirement already satisfied: coloredlogs in c:\\users\\omthe\\appdata\\roaming\\python\\python311\\site-packages (from onnxruntime>=1.14.1->chromadb) (15.0.1)\n",
      "Requirement already satisfied: flatbuffers in c:\\users\\omthe\\appdata\\roaming\\python\\python311\\site-packages (from onnxruntime>=1.14.1->chromadb) (23.5.26)\n",
      "Requirement already satisfied: protobuf in c:\\users\\omthe\\appdata\\roaming\\python\\python311\\site-packages (from onnxruntime>=1.14.1->chromadb) (4.23.4)\n",
      "Requirement already satisfied: sympy in c:\\users\\omthe\\appdata\\roaming\\python\\python311\\site-packages (from onnxruntime>=1.14.1->chromadb) (1.12)\n",
      "Requirement already satisfied: deprecated>=1.2.6 in c:\\users\\omthe\\appdata\\roaming\\python\\python311\\site-packages (from opentelemetry-api>=1.2.0->chromadb) (1.2.14)\n",
      "Requirement already satisfied: importlib-metadata<=7.0,>=6.0 in c:\\users\\omthe\\appdata\\roaming\\python\\python311\\site-packages (from opentelemetry-api>=1.2.0->chromadb) (7.0.0)\n",
      "Requirement already satisfied: googleapis-common-protos~=1.52 in c:\\users\\omthe\\appdata\\roaming\\python\\python311\\site-packages (from opentelemetry-exporter-otlp-proto-grpc>=1.2.0->chromadb) (1.62.0)\n",
      "Requirement already satisfied: opentelemetry-exporter-otlp-proto-common==1.24.0 in c:\\users\\omthe\\appdata\\roaming\\python\\python311\\site-packages (from opentelemetry-exporter-otlp-proto-grpc>=1.2.0->chromadb) (1.24.0)\n",
      "Requirement already satisfied: opentelemetry-proto==1.24.0 in c:\\users\\omthe\\appdata\\roaming\\python\\python311\\site-packages (from opentelemetry-exporter-otlp-proto-grpc>=1.2.0->chromadb) (1.24.0)\n",
      "Requirement already satisfied: opentelemetry-instrumentation-asgi==0.45b0 in c:\\users\\omthe\\appdata\\roaming\\python\\python311\\site-packages (from opentelemetry-instrumentation-fastapi>=0.41b0->chromadb) (0.45b0)\n",
      "Requirement already satisfied: opentelemetry-instrumentation==0.45b0 in c:\\users\\omthe\\appdata\\roaming\\python\\python311\\site-packages (from opentelemetry-instrumentation-fastapi>=0.41b0->chromadb) (0.45b0)\n",
      "Requirement already satisfied: opentelemetry-semantic-conventions==0.45b0 in c:\\users\\omthe\\appdata\\roaming\\python\\python311\\site-packages (from opentelemetry-instrumentation-fastapi>=0.41b0->chromadb) (0.45b0)\n",
      "Requirement already satisfied: opentelemetry-util-http==0.45b0 in c:\\users\\omthe\\appdata\\roaming\\python\\python311\\site-packages (from opentelemetry-instrumentation-fastapi>=0.41b0->chromadb) (0.45b0)\n",
      "Requirement already satisfied: setuptools>=16.0 in c:\\users\\omthe\\appdata\\roaming\\python\\python311\\site-packages (from opentelemetry-instrumentation==0.45b0->opentelemetry-instrumentation-fastapi>=0.41b0->chromadb) (69.2.0)\n",
      "Requirement already satisfied: wrapt<2.0.0,>=1.0.0 in c:\\users\\omthe\\appdata\\roaming\\python\\python311\\site-packages (from opentelemetry-instrumentation==0.45b0->opentelemetry-instrumentation-fastapi>=0.41b0->chromadb) (1.14.1)\n",
      "Requirement already satisfied: asgiref~=3.0 in c:\\users\\omthe\\appdata\\roaming\\python\\python311\\site-packages (from opentelemetry-instrumentation-asgi==0.45b0->opentelemetry-instrumentation-fastapi>=0.41b0->chromadb) (3.7.2)\n",
      "Requirement already satisfied: monotonic>=1.5 in c:\\users\\omthe\\appdata\\roaming\\python\\python311\\site-packages (from posthog>=2.4.0->chromadb) (1.6)\n",
      "Requirement already satisfied: backoff>=1.10.0 in c:\\users\\omthe\\appdata\\roaming\\python\\python311\\site-packages (from posthog>=2.4.0->chromadb) (2.2.1)\n",
      "Requirement already satisfied: charset-normalizer<4,>=2 in c:\\users\\omthe\\appdata\\roaming\\python\\python311\\site-packages (from requests>=2.28->chromadb) (3.3.2)\n",
      "Requirement already satisfied: idna<4,>=2.5 in c:\\users\\omthe\\appdata\\roaming\\python\\python311\\site-packages (from requests>=2.28->chromadb) (3.6)\n",
      "Requirement already satisfied: huggingface-hub<1.0,>=0.16.4 in c:\\users\\omthe\\appdata\\roaming\\python\\python311\\site-packages (from tokenizers>=0.13.2->chromadb) (0.23.2)\n",
      "Requirement already satisfied: click<9.0.0,>=7.1.1 in c:\\users\\omthe\\appdata\\roaming\\python\\python311\\site-packages (from typer>=0.9.0->chromadb) (8.1.7)\n",
      "Requirement already satisfied: h11>=0.8 in c:\\users\\omthe\\appdata\\roaming\\python\\python311\\site-packages (from uvicorn>=0.18.3->uvicorn[standard]>=0.18.3->chromadb) (0.14.0)\n",
      "Requirement already satisfied: httptools>=0.5.0 in c:\\users\\omthe\\appdata\\roaming\\python\\python311\\site-packages (from uvicorn[standard]>=0.18.3->chromadb) (0.6.1)\n",
      "Requirement already satisfied: python-dotenv>=0.13 in c:\\users\\omthe\\appdata\\roaming\\python\\python311\\site-packages (from uvicorn[standard]>=0.18.3->chromadb) (1.0.1)\n",
      "Requirement already satisfied: watchfiles>=0.13 in c:\\users\\omthe\\appdata\\roaming\\python\\python311\\site-packages (from uvicorn[standard]>=0.18.3->chromadb) (0.19.0)\n",
      "Requirement already satisfied: websockets>=10.4 in c:\\users\\omthe\\appdata\\roaming\\python\\python311\\site-packages (from uvicorn[standard]>=0.18.3->chromadb) (11.0.3)\n",
      "Requirement already satisfied: sniffio>=1.1 in c:\\users\\omthe\\appdata\\roaming\\python\\python311\\site-packages (from anyio<5,>=3->langchain-core<0.2.0,>=0.1.28->langchain-text-splitters) (1.3.0)\n",
      "Requirement already satisfied: cachetools<6.0,>=2.0.0 in c:\\users\\omthe\\appdata\\roaming\\python\\python311\\site-packages (from google-auth>=1.0.1->kubernetes>=28.1.0->chromadb) (5.3.2)\n",
      "Requirement already satisfied: pyasn1-modules>=0.2.1 in c:\\users\\omthe\\appdata\\roaming\\python\\python311\\site-packages (from google-auth>=1.0.1->kubernetes>=28.1.0->chromadb) (0.3.0)\n",
      "Requirement already satisfied: rsa<5,>=3.1.4 in c:\\users\\omthe\\appdata\\roaming\\python\\python311\\site-packages (from google-auth>=1.0.1->kubernetes>=28.1.0->chromadb) (4.9)\n",
      "Requirement already satisfied: filelock in c:\\users\\omthe\\appdata\\roaming\\python\\python311\\site-packages (from huggingface-hub<1.0,>=0.16.4->tokenizers>=0.13.2->chromadb) (3.13.1)\n",
      "Requirement already satisfied: fsspec>=2023.5.0 in c:\\users\\omthe\\appdata\\roaming\\python\\python311\\site-packages (from huggingface-hub<1.0,>=0.16.4->tokenizers>=0.13.2->chromadb) (2024.2.0)\n",
      "Requirement already satisfied: zipp>=0.5 in c:\\users\\omthe\\appdata\\roaming\\python\\python311\\site-packages (from importlib-metadata<=7.0,>=6.0->opentelemetry-api>=1.2.0->chromadb) (3.19.0)\n",
      "Requirement already satisfied: jsonpointer>=1.9 in c:\\users\\omthe\\appdata\\roaming\\python\\python311\\site-packages (from jsonpatch<2.0,>=1.33->langchain-core<0.2.0,>=0.1.28->langchain-text-splitters) (2.4)\n",
      "Requirement already satisfied: humanfriendly>=9.1 in c:\\users\\omthe\\appdata\\roaming\\python\\python311\\site-packages (from coloredlogs->onnxruntime>=1.14.1->chromadb) (10.0)\n",
      "Requirement already satisfied: mpmath>=0.19 in c:\\users\\omthe\\appdata\\roaming\\python\\python311\\site-packages (from sympy->onnxruntime>=1.14.1->chromadb) (1.3.0)\n",
      "Requirement already satisfied: pyreadline3 in c:\\users\\omthe\\appdata\\roaming\\python\\python311\\site-packages (from humanfriendly>=9.1->coloredlogs->onnxruntime>=1.14.1->chromadb) (3.4.1)\n",
      "Requirement already satisfied: pyasn1<0.6.0,>=0.4.6 in c:\\users\\omthe\\appdata\\roaming\\python\\python311\\site-packages (from pyasn1-modules>=0.2.1->google-auth>=1.0.1->kubernetes>=28.1.0->chromadb) (0.5.1)\n"
     ]
    }
   ],
   "source": [
    "!pip install chromadb langchain-text-splitters"
   ]
  },
  {
   "cell_type": "code",
   "execution_count": 8,
   "id": "630d9459-423f-4150-9bab-f978922983a9",
   "metadata": {},
   "outputs": [],
   "source": [
    "from langchain_community.embeddings import OllamaEmbeddings\n",
    "from langchain_text_splitters import RecursiveCharacterTextSplitter\n",
    "from langchain_community.vectorstores import Chroma"
   ]
  },
  {
   "cell_type": "code",
   "execution_count": 18,
   "id": "50afabfc-1be4-470f-b67e-3173468d150b",
   "metadata": {},
   "outputs": [],
   "source": [
    "# split and chunk\n",
    "text_splitter = RecursiveCharacterTextSplitter(chunk_size=1000, chunk_overlap=100)\n",
    "chunks = text_splitter.split_documents(data)"
   ]
  },
  {
   "cell_type": "code",
   "execution_count": 10,
   "id": "bc212ae2-01a7-42ca-b32f-2452ce746c03",
   "metadata": {},
   "outputs": [
    {
     "name": "stderr",
     "output_type": "stream",
     "text": [
      "OllamaEmbeddings: 100%|██████████████████████████████████████████████████████████████████| 5/5 [00:58<00:00, 11.72s/it]\n"
     ]
    }
   ],
   "source": [
    "# add vector db\n",
    "vector_db = Chroma.from_documents(documents=chunks,\n",
    "                                 embedding=OllamaEmbeddings(model=\"nomic-embed-text:latest\", show_progress=True),\n",
    "                                 collection_name=\"local-rag\")"
   ]
  },
  {
   "cell_type": "markdown",
   "id": "810a9bcd-730c-4545-a5e3-99553d4e53a6",
   "metadata": {
    "jp-MarkdownHeadingCollapsed": true
   },
   "source": [
    "# Retrieval"
   ]
  },
  {
   "cell_type": "code",
   "execution_count": 11,
   "id": "37a3ffd2-19f5-4e84-8291-44b59b528903",
   "metadata": {},
   "outputs": [],
   "source": [
    "from langchain.prompts import ChatPromptTemplate, PromptTemplate\n",
    "from langchain_core.output_parsers import StrOutputParser\n",
    "from langchain_community.chat_models import ChatOllama\n",
    "from langchain_core. runnables import RunnablePassthrough\n",
    "from langchain. retrievers.multi_query import MultiQueryRetriever"
   ]
  },
  {
   "cell_type": "code",
   "execution_count": 12,
   "id": "7ce84f82-15c0-4925-83df-0a7d8b1deffb",
   "metadata": {},
   "outputs": [],
   "source": [
    "# LLM from ollama\n",
    "local_model = \"gemma:2b\"\n",
    "llm = ChatOllama(model=local_model)"
   ]
  },
  {
   "cell_type": "code",
   "execution_count": 13,
   "id": "bda4578d-b320-4902-ad44-8de03cc6586d",
   "metadata": {},
   "outputs": [],
   "source": [
    "QUERY_PROMPT = PromptTemplate(\n",
    "    input_variables=[\"question\"],\n",
    "    template=\"\"\"You are an AI language model assistant. Your task is to generate five\n",
    "different versions of the given user question to retrieve relevant documents from\n",
    "a vector database. By generating multiple perspectives on the user question, your\n",
    "goal is to help the user overcome some of the limitations of the distance-based\n",
    "similarity search. Provide these alternative questions separated by newlines.\n",
    "Original question: {question}\"\"\",\n",
    ")"
   ]
  },
  {
   "cell_type": "code",
   "execution_count": 14,
   "id": "8047241c-f9ca-4721-9158-8517896bc41a",
   "metadata": {},
   "outputs": [],
   "source": [
    "retriever = MultiQueryRetriever.from_llm(\n",
    "    vector_db.as_retriever(),\n",
    "    llm,\n",
    "    prompt=QUERY_PROMPT\n",
    ")\n",
    "\n",
    "# RAG Prompt\n",
    "template = \"\"\"Answer the following question based ONLY on the following context:\n",
    "{context}\n",
    "Question: {question}\n",
    "\"\"\"\n",
    "\n",
    "prompt = ChatPromptTemplate.from_template(template)\n"
   ]
  },
  {
   "cell_type": "code",
   "execution_count": 15,
   "id": "b2ad3c4c-230f-41fc-a951-eb24279a80ca",
   "metadata": {},
   "outputs": [],
   "source": [
    "chain = (\n",
    "    {\"context\": retriever, \"question\": RunnablePassthrough()}\n",
    "    | prompt\n",
    "    | llm\n",
    "    | StrOutputParser()\n",
    ")"
   ]
  },
  {
   "cell_type": "markdown",
   "id": "c94ac393-ae3f-4c1a-87c2-b1d7c3cbf07e",
   "metadata": {},
   "source": [
    "# Test"
   ]
  },
  {
   "cell_type": "code",
   "execution_count": 17,
   "id": "502ce861-9ec9-4caa-9126-e79ac1be26bd",
   "metadata": {},
   "outputs": [
    {
     "name": "stdout",
     "output_type": "stream",
     "text": [
      " WHat is document about?\n"
     ]
    },
    {
     "name": "stderr",
     "output_type": "stream",
     "text": [
      "OllamaEmbeddings: 100%|██████████████████████████████████████████████████████████████████| 1/1 [00:03<00:00,  3.89s/it]\n",
      "OllamaEmbeddings: 100%|██████████████████████████████████████████████████████████████████| 1/1 [00:02<00:00,  2.07s/it]\n",
      "OllamaEmbeddings: 100%|██████████████████████████████████████████████████████████████████| 1/1 [00:02<00:00,  2.13s/it]\n",
      "OllamaEmbeddings: 100%|██████████████████████████████████████████████████████████████████| 1/1 [00:02<00:00,  2.05s/it]\n",
      "OllamaEmbeddings: 100%|██████████████████████████████████████████████████████████████████| 1/1 [00:02<00:00,  2.17s/it]\n",
      "OllamaEmbeddings: 100%|██████████████████████████████████████████████████████████████████| 1/1 [00:02<00:00,  2.06s/it]\n",
      "OllamaEmbeddings: 100%|██████████████████████████████████████████████████████████████████| 1/1 [00:02<00:00,  2.12s/it]\n",
      "OllamaEmbeddings: 100%|██████████████████████████████████████████████████████████████████| 1/1 [00:02<00:00,  2.06s/it]\n",
      "OllamaEmbeddings: 100%|██████████████████████████████████████████████████████████████████| 1/1 [00:02<00:00,  2.22s/it]\n"
     ]
    },
    {
     "data": {
      "text/plain": [
       "'This document is about an IHC analysis of prostate tissues with the aim of studying the expression of PSA, p63 and BCL-2 proteins in benign prostate hyperplasia (BPH), CaP and normal prostatic epithelium. The study aims to understand the relationship between the expression of these proteins and the development of prostate cancer.'"
      ]
     },
     "execution_count": 17,
     "metadata": {},
     "output_type": "execute_result"
    }
   ],
   "source": [
    "chain.invoke(input(\"\"))"
   ]
  },
  {
   "cell_type": "code",
   "execution_count": 20,
   "id": "9899ab31-208c-495e-8fa3-a17b2fde2915",
   "metadata": {},
   "outputs": [
    {
     "name": "stdout",
     "output_type": "stream",
     "text": [
      " limitaions of the research\n"
     ]
    },
    {
     "name": "stderr",
     "output_type": "stream",
     "text": [
      "OllamaEmbeddings: 100%|██████████████████████████████████████████████████████████████████| 1/1 [00:03<00:00,  3.79s/it]\n",
      "OllamaEmbeddings: 100%|██████████████████████████████████████████████████████████████████| 1/1 [00:02<00:00,  2.07s/it]\n",
      "OllamaEmbeddings: 100%|██████████████████████████████████████████████████████████████████| 1/1 [00:02<00:00,  2.15s/it]\n",
      "OllamaEmbeddings: 100%|██████████████████████████████████████████████████████████████████| 1/1 [00:02<00:00,  2.06s/it]\n",
      "OllamaEmbeddings: 100%|██████████████████████████████████████████████████████████████████| 1/1 [00:02<00:00,  2.10s/it]\n",
      "OllamaEmbeddings: 100%|██████████████████████████████████████████████████████████████████| 1/1 [00:02<00:00,  2.07s/it]\n",
      "OllamaEmbeddings: 100%|██████████████████████████████████████████████████████████████████| 1/1 [00:02<00:00,  2.17s/it]\n",
      "OllamaEmbeddings: 100%|██████████████████████████████████████████████████████████████████| 1/1 [00:02<00:00,  2.06s/it]\n",
      "OllamaEmbeddings: 100%|██████████████████████████████████████████████████████████████████| 1/1 [00:02<00:00,  2.08s/it]\n",
      "OllamaEmbeddings: 100%|██████████████████████████████████████████████████████████████████| 1/1 [00:02<00:00,  2.07s/it]\n",
      "OllamaEmbeddings: 100%|██████████████████████████████████████████████████████████████████| 1/1 [00:02<00:00,  2.16s/it]\n",
      "OllamaEmbeddings: 100%|██████████████████████████████████████████████████████████████████| 1/1 [00:02<00:00,  2.07s/it]\n",
      "OllamaEmbeddings: 100%|██████████████████████████████████████████████████████████████████| 1/1 [00:02<00:00,  2.10s/it]\n",
      "OllamaEmbeddings: 100%|██████████████████████████████████████████████████████████████████| 1/1 [00:02<00:00,  2.05s/it]\n",
      "OllamaEmbeddings: 100%|██████████████████████████████████████████████████████████████████| 1/1 [00:02<00:00,  2.14s/it]\n",
      "OllamaEmbeddings: 100%|██████████████████████████████████████████████████████████████████| 1/1 [00:02<00:00,  2.06s/it]\n",
      "OllamaEmbeddings: 100%|██████████████████████████████████████████████████████████████████| 1/1 [00:02<00:00,  2.09s/it]\n",
      "OllamaEmbeddings: 100%|██████████████████████████████████████████████████████████████████| 1/1 [00:02<00:00,  2.07s/it]\n",
      "OllamaEmbeddings: 100%|██████████████████████████████████████████████████████████████████| 1/1 [00:02<00:00,  2.14s/it]\n"
     ]
    },
    {
     "data": {
      "text/plain": [
       "'Sure, here are the limitations of the research:\\n\\n* The study was retrospective, which means that the data was collected from existing patient files and records. This limits the generalizability of the results to a population of all prostate cancer patients.\\n\\n\\n* The study was conducted on a relatively small number of patients (n=80). This can make it difficult to draw conclusions about the efficacy of the biomarkers in a larger population.\\n\\n\\n* The study was conducted in a single center, which could limit the generalizability of the results to other medical centers.\\n\\n\\n* The study did not use a control group of patients with benign prostate hyperplasia (BPH) to compare the diagnostic accuracy of the biomarkers. This makes it difficult to determine the true diagnostic value of the biomarkers.\\n\\n\\n* The study did not use a variety of biomarkers to assess their diagnostic accuracy. This limits the generalizability of the results to other biomarkers.'"
      ]
     },
     "execution_count": 20,
     "metadata": {},
     "output_type": "execute_result"
    }
   ],
   "source": [
    "chain.invoke(input(\"\"))"
   ]
  },
  {
   "cell_type": "code",
   "execution_count": null,
   "id": "a2bcb413-316b-4256-bc85-b9be7bf68fa0",
   "metadata": {},
   "outputs": [],
   "source": [
    "# Delete all Colletion in the db\n",
    "# vector_db.delete_collection()"
   ]
  },
  {
   "cell_type": "code",
   "execution_count": null,
   "id": "82f13a72-6daf-470c-865e-96aeed6ec1e1",
   "metadata": {},
   "outputs": [],
   "source": []
  }
 ],
 "metadata": {
  "kernelspec": {
   "display_name": "Python 3 (ipykernel)",
   "language": "python",
   "name": "python3"
  },
  "language_info": {
   "codemirror_mode": {
    "name": "ipython",
    "version": 3
   },
   "file_extension": ".py",
   "mimetype": "text/x-python",
   "name": "python",
   "nbconvert_exporter": "python",
   "pygments_lexer": "ipython3",
   "version": "3.11.7"
  }
 },
 "nbformat": 4,
 "nbformat_minor": 5
}
